{
 "cells": [
  {
   "cell_type": "markdown",
   "id": "c60becd8",
   "metadata": {},
   "source": [
    "### This jupyter notebook contains contents of the lesson \"Statistical analysis in Datasets\"\n",
    "\n",
    "**Author : Umidjon Sattorov. Machine Learning engineer**"
   ]
  },
  {
   "cell_type": "markdown",
   "id": "d350b8f8",
   "metadata": {},
   "source": [
    "____"
   ]
  },
  {
   "cell_type": "markdown",
   "id": "4e62d02b",
   "metadata": {},
   "source": [
    "Dataset information : "
   ]
  },
  {
   "cell_type": "markdown",
   "id": "66d05780",
   "metadata": {},
   "source": [
    "| Column          | English Description                                                           | Русское описание                                                                  | O'zbekcha tavsifi                                                         |\n",
    "| --------------- | ----------------------------------------------------------------------------- | --------------------------------------------------------------------------------- | ------------------------------------------------------------------------- |\n",
    "| **age**         | Age of the patient in days.                                                   | Возраст пациента в днях.                                                          | Bemor yoshi (kunlarda).                                                   |\n",
    "| **sex**         | Gender: `1` = Male, `2` = Female.                                             | Пол: `1` = Мужчина, `2` = Женщина.                                                | Jinsi: `1` = Erkak, `2` = Ayol.                                           |\n",
    "| **height**      | Height in centimeters.                                                        | Рост в сантиметрах.                                                               | Boʻy (sm da).                                                             |\n",
    "| **weight**      | Weight in kilograms.                                                          | Вес в килограммах.                                                                | Vazn (kg da).                                                             |\n",
    "| **ap\\_hi**      | Systolic blood pressure.                                                      | Систолическое давление.                                                           | Yuqori qon bosimi (sistolik).                                             |\n",
    "| **ap\\_lo**      | Diastolic blood pressure.                                                     | Диастолическое давление.                                                          | Pastki qon bosimi (diastolik).                                            |\n",
    "| **cholesterol** | Cholesterol level: `1` = Normal, `2` = Above normal, `3` = Well above normal. | Уровень холестерина: `1` = Нормальный, `2` = Повышенный, `3` = Сильно повышенный. | Xolesterin darajasi: `1` = Normal, `2` = Biroz yuqori, `3` = Juda yuqori. |\n",
    "| **gluc**        | Glucose level: same coding as cholesterol.                                    | Уровень глюкозы: те же значения, что и для холестерина.                           | Glyukoza darajasi: `1`, `2`, `3` — xuddi xolesterin kabi.                 |\n",
    "| **smoke**       | Smokes: `0` = No, `1` = Yes.                                                  | Курит: `0` = Нет, `1` = Да.                                                       | Chekadimi: `0` = Yoʻq, `1` = Ha.                                          |\n",
    "| **alco**        | Alcohol intake: `0` = No, `1` = Yes.                                          | Употребляет алкоголь: `0` = Нет, `1` = Да.                                        | Spirtli ichimlik ichadimi: `0` = Yoʻq, `1` = Ha.                          |\n",
    "| **active**      | Physically active: `0` = No, `1` = Yes.                                       | Физически активен: `0` = Нет, `1` = Да.                                           | Jismoniy faolmi: `0` = Yoʻq, `1` = Ha.                                    |\n",
    "| **cardio**      | Has cardiovascular disease: `0` = No, `1` = Yes.                              | Есть сердечно-сосудистое заболевание: `0` = Нет, `1` = Да.                        | Yurak-qon tomir kasalligi mavjudmi: `0` = Yoʻq, `1` = Ha.                 |\n"
   ]
  },
  {
   "cell_type": "markdown",
   "id": "30a488e0",
   "metadata": {},
   "source": [
    "___"
   ]
  },
  {
   "cell_type": "code",
   "execution_count": 6,
   "id": "9215bc8e",
   "metadata": {},
   "outputs": [],
   "source": [
    "import pandas as pd\n",
    "import numpy as np"
   ]
  },
  {
   "cell_type": "code",
   "execution_count": 5,
   "id": "da99d4fb",
   "metadata": {},
   "outputs": [
    {
     "data": {
      "text/html": [
       "<div>\n",
       "<style scoped>\n",
       "    .dataframe tbody tr th:only-of-type {\n",
       "        vertical-align: middle;\n",
       "    }\n",
       "\n",
       "    .dataframe tbody tr th {\n",
       "        vertical-align: top;\n",
       "    }\n",
       "\n",
       "    .dataframe thead th {\n",
       "        text-align: right;\n",
       "    }\n",
       "</style>\n",
       "<table border=\"1\" class=\"dataframe\">\n",
       "  <thead>\n",
       "    <tr style=\"text-align: right;\">\n",
       "      <th></th>\n",
       "      <th>id</th>\n",
       "      <th>age</th>\n",
       "      <th>sex</th>\n",
       "      <th>height</th>\n",
       "      <th>weight</th>\n",
       "      <th>ap_hi</th>\n",
       "      <th>ap_lo</th>\n",
       "      <th>cholesterol</th>\n",
       "      <th>gluc</th>\n",
       "      <th>smoke</th>\n",
       "      <th>alco</th>\n",
       "      <th>active</th>\n",
       "      <th>cardio</th>\n",
       "    </tr>\n",
       "  </thead>\n",
       "  <tbody>\n",
       "    <tr>\n",
       "      <th>0</th>\n",
       "      <td>0</td>\n",
       "      <td>18393</td>\n",
       "      <td>2</td>\n",
       "      <td>168</td>\n",
       "      <td>62.0</td>\n",
       "      <td>110</td>\n",
       "      <td>80</td>\n",
       "      <td>1</td>\n",
       "      <td>1</td>\n",
       "      <td>0</td>\n",
       "      <td>0</td>\n",
       "      <td>1</td>\n",
       "      <td>0</td>\n",
       "    </tr>\n",
       "    <tr>\n",
       "      <th>1</th>\n",
       "      <td>1</td>\n",
       "      <td>20228</td>\n",
       "      <td>1</td>\n",
       "      <td>156</td>\n",
       "      <td>85.0</td>\n",
       "      <td>140</td>\n",
       "      <td>90</td>\n",
       "      <td>3</td>\n",
       "      <td>1</td>\n",
       "      <td>0</td>\n",
       "      <td>0</td>\n",
       "      <td>1</td>\n",
       "      <td>1</td>\n",
       "    </tr>\n",
       "    <tr>\n",
       "      <th>2</th>\n",
       "      <td>2</td>\n",
       "      <td>18857</td>\n",
       "      <td>1</td>\n",
       "      <td>165</td>\n",
       "      <td>64.0</td>\n",
       "      <td>130</td>\n",
       "      <td>70</td>\n",
       "      <td>3</td>\n",
       "      <td>1</td>\n",
       "      <td>0</td>\n",
       "      <td>0</td>\n",
       "      <td>0</td>\n",
       "      <td>1</td>\n",
       "    </tr>\n",
       "    <tr>\n",
       "      <th>3</th>\n",
       "      <td>3</td>\n",
       "      <td>17623</td>\n",
       "      <td>2</td>\n",
       "      <td>169</td>\n",
       "      <td>82.0</td>\n",
       "      <td>150</td>\n",
       "      <td>100</td>\n",
       "      <td>1</td>\n",
       "      <td>1</td>\n",
       "      <td>0</td>\n",
       "      <td>0</td>\n",
       "      <td>1</td>\n",
       "      <td>1</td>\n",
       "    </tr>\n",
       "    <tr>\n",
       "      <th>4</th>\n",
       "      <td>4</td>\n",
       "      <td>17474</td>\n",
       "      <td>1</td>\n",
       "      <td>156</td>\n",
       "      <td>56.0</td>\n",
       "      <td>100</td>\n",
       "      <td>60</td>\n",
       "      <td>1</td>\n",
       "      <td>1</td>\n",
       "      <td>0</td>\n",
       "      <td>0</td>\n",
       "      <td>0</td>\n",
       "      <td>0</td>\n",
       "    </tr>\n",
       "  </tbody>\n",
       "</table>\n",
       "</div>"
      ],
      "text/plain": [
       "   id    age  sex  height  weight  ap_hi  ap_lo  cholesterol  gluc  smoke  \\\n",
       "0   0  18393    2     168    62.0    110     80            1     1      0   \n",
       "1   1  20228    1     156    85.0    140     90            3     1      0   \n",
       "2   2  18857    1     165    64.0    130     70            3     1      0   \n",
       "3   3  17623    2     169    82.0    150    100            1     1      0   \n",
       "4   4  17474    1     156    56.0    100     60            1     1      0   \n",
       "\n",
       "   alco  active  cardio  \n",
       "0     0       1       0  \n",
       "1     0       1       1  \n",
       "2     0       0       1  \n",
       "3     0       1       1  \n",
       "4     0       0       0  "
      ]
     },
     "execution_count": 5,
     "metadata": {},
     "output_type": "execute_result"
    }
   ],
   "source": [
    "# Reading dataframe\n",
    "df = pd.read_csv('./additional/medical_examination.csv')\n",
    "df.head()"
   ]
  },
  {
   "cell_type": "code",
   "execution_count": 13,
   "id": "87759a6e",
   "metadata": {},
   "outputs": [
    {
     "data": {
      "text/plain": [
       "(70000, 13)"
      ]
     },
     "execution_count": 13,
     "metadata": {},
     "output_type": "execute_result"
    }
   ],
   "source": [
    "df.shape"
   ]
  },
  {
   "cell_type": "markdown",
   "id": "e7c28f4e",
   "metadata": {},
   "source": [
    "____"
   ]
  },
  {
   "cell_type": "markdown",
   "id": "15b1566b",
   "metadata": {},
   "source": [
    "### mean() - Average value of column"
   ]
  },
  {
   "cell_type": "code",
   "execution_count": null,
   "id": "e73f254f",
   "metadata": {},
   "outputs": [
    {
     "data": {
      "text/plain": [
       "np.float64(74.20569)"
      ]
     },
     "execution_count": 7,
     "metadata": {},
     "output_type": "execute_result"
    }
   ],
   "source": [
    "# Calculating average value of Weight\n",
    "df['weight'].mean()"
   ]
  },
  {
   "cell_type": "code",
   "execution_count": 8,
   "id": "ed2b641e",
   "metadata": {},
   "outputs": [],
   "source": [
    "mean_weight = df['weight'].mean()"
   ]
  },
  {
   "cell_type": "code",
   "execution_count": 9,
   "id": "0af42734",
   "metadata": {},
   "outputs": [],
   "source": [
    "mean_height = df['weight'].mean()\n",
    "mean_ap_hi = df['ap_hi'].mean()"
   ]
  },
  {
   "cell_type": "code",
   "execution_count": 11,
   "id": "913232a3",
   "metadata": {},
   "outputs": [
    {
     "data": {
      "text/plain": [
       "id             49972.419900\n",
       "age            19468.865814\n",
       "sex                1.349843\n",
       "height           164.359229\n",
       "weight            74.205690\n",
       "ap_hi            128.817286\n",
       "ap_lo             96.630414\n",
       "cholesterol        1.366871\n",
       "gluc               1.226457\n",
       "smoke              0.088129\n",
       "alco               0.053771\n",
       "active             0.803729\n",
       "cardio             0.499700\n",
       "dtype: float64"
      ]
     },
     "execution_count": 11,
     "metadata": {},
     "output_type": "execute_result"
    }
   ],
   "source": [
    "# Calculating all mean values\n",
    "df.mean()"
   ]
  },
  {
   "cell_type": "code",
   "execution_count": null,
   "id": "137eb9dc",
   "metadata": {},
   "outputs": [],
   "source": []
  },
  {
   "cell_type": "markdown",
   "id": "a9299eb7",
   "metadata": {},
   "source": [
    "**Task**"
   ]
  },
  {
   "cell_type": "markdown",
   "id": "2fb8505d",
   "metadata": {},
   "source": [
    "1. Calculate mean value of age in years"
   ]
  },
  {
   "cell_type": "code",
   "execution_count": null,
   "id": "90fada4f",
   "metadata": {},
   "outputs": [],
   "source": [
    "# Your code goes here\n"
   ]
  },
  {
   "cell_type": "markdown",
   "id": "8d8d950c",
   "metadata": {},
   "source": [
    "2. Show the only rows of information where people have higher weight than average weight of the data."
   ]
  },
  {
   "cell_type": "code",
   "execution_count": null,
   "id": "577bc97b",
   "metadata": {},
   "outputs": [],
   "source": [
    "# Your code goes here\n"
   ]
  },
  {
   "cell_type": "markdown",
   "id": "6a4b8f6e",
   "metadata": {},
   "source": [
    "3. Show the rows of information where people have less height than the average height of the data."
   ]
  },
  {
   "cell_type": "code",
   "execution_count": null,
   "id": "a19304af",
   "metadata": {},
   "outputs": [],
   "source": [
    "# Your code goes here\n"
   ]
  },
  {
   "cell_type": "markdown",
   "id": "0e600e36",
   "metadata": {},
   "source": [
    "HM : 4. Show the rows of information where people have higher high Arterial Pressure than average high arterial pressure and lower low arterial pressure than low arterial pressure.\n"
   ]
  },
  {
   "cell_type": "code",
   "execution_count": null,
   "id": "3e63e998",
   "metadata": {},
   "outputs": [],
   "source": [
    "# Your code goes here\n"
   ]
  },
  {
   "cell_type": "markdown",
   "id": "e0c8645a",
   "metadata": {},
   "source": [
    "___"
   ]
  },
  {
   "cell_type": "markdown",
   "id": "82cf60c2",
   "metadata": {},
   "source": [
    "### sum() "
   ]
  },
  {
   "cell_type": "markdown",
   "id": "65503919",
   "metadata": {},
   "source": [
    "Question : How would you find the number of smokers from the dataset."
   ]
  },
  {
   "cell_type": "code",
   "execution_count": 12,
   "id": "54fe5e08",
   "metadata": {},
   "outputs": [
    {
     "data": {
      "text/plain": [
       "np.int64(6169)"
      ]
     },
     "execution_count": 12,
     "metadata": {},
     "output_type": "execute_result"
    }
   ],
   "source": [
    "# Calculating sum for given column\n",
    "df['smoke'].sum()"
   ]
  },
  {
   "cell_type": "code",
   "execution_count": 14,
   "id": "894564d2",
   "metadata": {},
   "outputs": [
    {
     "data": {
      "text/plain": [
       "smoke    6169\n",
       "alco     3764\n",
       "dtype: int64"
      ]
     },
     "execution_count": 14,
     "metadata": {},
     "output_type": "execute_result"
    }
   ],
   "source": [
    "# More than one column\n",
    "df[['smoke', 'alco']].sum()"
   ]
  },
  {
   "cell_type": "code",
   "execution_count": 15,
   "id": "e5735fb0",
   "metadata": {},
   "outputs": [
    {
     "data": {
      "text/plain": [
       "id             3.498069e+09\n",
       "age            1.362821e+09\n",
       "sex            9.448900e+04\n",
       "height         1.150515e+07\n",
       "weight         5.194398e+06\n",
       "ap_hi          9.017210e+06\n",
       "ap_lo          6.764129e+06\n",
       "cholesterol    9.568100e+04\n",
       "gluc           8.585200e+04\n",
       "smoke          6.169000e+03\n",
       "alco           3.764000e+03\n",
       "active         5.626100e+04\n",
       "cardio         3.497900e+04\n",
       "dtype: float64"
      ]
     },
     "execution_count": 15,
     "metadata": {},
     "output_type": "execute_result"
    }
   ],
   "source": [
    "# Full calculation\n",
    "df.sum()"
   ]
  },
  {
   "cell_type": "code",
   "execution_count": null,
   "id": "08d4d86a",
   "metadata": {},
   "outputs": [],
   "source": []
  },
  {
   "cell_type": "markdown",
   "id": "52a3cc5d",
   "metadata": {},
   "source": [
    "**Tasks**\n",
    "\n",
    "1. Calculate how many people in the dataset drink alcohol.\n",
    "\n",
    "2. Calculate how many people in the dataset have problem with their cardio.\n",
    "\n",
    "3. Calculate the number of active people in the dataset."
   ]
  },
  {
   "cell_type": "code",
   "execution_count": null,
   "id": "8cabdda2",
   "metadata": {},
   "outputs": [],
   "source": [
    "# Your code goes here\n"
   ]
  },
  {
   "cell_type": "markdown",
   "id": "aa9442cc",
   "metadata": {},
   "source": [
    "___"
   ]
  },
  {
   "cell_type": "markdown",
   "id": "28b163fb",
   "metadata": {},
   "source": [
    "### max(), min()"
   ]
  },
  {
   "cell_type": "code",
   "execution_count": 16,
   "id": "d115aaf2",
   "metadata": {},
   "outputs": [
    {
     "data": {
      "text/plain": [
       "np.int64(16020)"
      ]
     },
     "execution_count": 16,
     "metadata": {},
     "output_type": "execute_result"
    }
   ],
   "source": [
    "# Calculating highest artellery pressure of the humans in the dataset\n",
    "df['ap_hi'].max()"
   ]
  },
  {
   "cell_type": "code",
   "execution_count": 17,
   "id": "82ea6132",
   "metadata": {},
   "outputs": [
    {
     "data": {
      "text/plain": [
       "np.int64(-70)"
      ]
     },
     "execution_count": 17,
     "metadata": {},
     "output_type": "execute_result"
    }
   ],
   "source": [
    "# Calculating min\n",
    "df['ap_lo'].min()"
   ]
  },
  {
   "cell_type": "code",
   "execution_count": 18,
   "id": "8aab341e",
   "metadata": {},
   "outputs": [
    {
     "data": {
      "text/plain": [
       "np.int64(40852)"
      ]
     },
     "execution_count": 18,
     "metadata": {},
     "output_type": "execute_result"
    }
   ],
   "source": [
    "df['ap_hi'].argmax()"
   ]
  },
  {
   "cell_type": "code",
   "execution_count": 19,
   "id": "baf33ab1",
   "metadata": {},
   "outputs": [
    {
     "data": {
      "text/plain": [
       "np.int64(60106)"
      ]
     },
     "execution_count": 19,
     "metadata": {},
     "output_type": "execute_result"
    }
   ],
   "source": [
    "df['ap_lo'].argmin()"
   ]
  },
  {
   "cell_type": "code",
   "execution_count": 20,
   "id": "088b35eb",
   "metadata": {},
   "outputs": [
    {
     "data": {
      "text/plain": [
       "id             58374.0\n",
       "age            17438.0\n",
       "sex                1.0\n",
       "height           169.0\n",
       "weight            70.0\n",
       "ap_hi          16020.0\n",
       "ap_lo             80.0\n",
       "cholesterol        1.0\n",
       "gluc               1.0\n",
       "smoke              0.0\n",
       "alco               0.0\n",
       "active             0.0\n",
       "cardio             1.0\n",
       "Name: 40852, dtype: float64"
      ]
     },
     "execution_count": 20,
     "metadata": {},
     "output_type": "execute_result"
    }
   ],
   "source": [
    "df.iloc[df['ap_hi'].argmax()]"
   ]
  },
  {
   "cell_type": "code",
   "execution_count": 24,
   "id": "47356850",
   "metadata": {},
   "outputs": [
    {
     "data": {
      "text/plain": [
       "id             69999\n",
       "age            57191\n",
       "sex             1537\n",
       "height          6486\n",
       "weight           435\n",
       "ap_hi          40852\n",
       "ap_lo          43326\n",
       "cholesterol        1\n",
       "gluc               7\n",
       "smoke             14\n",
       "alco              14\n",
       "active             0\n",
       "cardio             1\n",
       "dtype: int64"
      ]
     },
     "execution_count": 24,
     "metadata": {},
     "output_type": "execute_result"
    }
   ],
   "source": [
    "# idxmax() and idxmin()\n",
    "df.idxmax()"
   ]
  },
  {
   "cell_type": "code",
   "execution_count": 25,
   "id": "9d65682b",
   "metadata": {},
   "outputs": [
    {
     "data": {
      "text/plain": [
       "id                 0\n",
       "age            22343\n",
       "sex                1\n",
       "height         22723\n",
       "weight         57858\n",
       "ap_hi          35040\n",
       "ap_lo          60106\n",
       "cholesterol        0\n",
       "gluc               0\n",
       "smoke              0\n",
       "alco               0\n",
       "active             2\n",
       "cardio             0\n",
       "dtype: int64"
      ]
     },
     "execution_count": 25,
     "metadata": {},
     "output_type": "execute_result"
    }
   ],
   "source": [
    "df.idxmin()"
   ]
  },
  {
   "cell_type": "markdown",
   "id": "aec2872a",
   "metadata": {},
   "source": [
    "Task :\n",
    "\n",
    "Explore the functions count(), median(), std(), cumsum() even with the help of chatgpt."
   ]
  },
  {
   "cell_type": "code",
   "execution_count": null,
   "id": "78f18089",
   "metadata": {},
   "outputs": [],
   "source": [
    "# Exploration\n"
   ]
  },
  {
   "cell_type": "markdown",
   "id": "bb760063",
   "metadata": {},
   "source": [
    "___"
   ]
  },
  {
   "cell_type": "markdown",
   "id": "8f0f73ab",
   "metadata": {},
   "source": [
    "### Quick statistical analysis"
   ]
  },
  {
   "cell_type": "code",
   "execution_count": 28,
   "id": "a913a784",
   "metadata": {},
   "outputs": [
    {
     "data": {
      "text/html": [
       "<div>\n",
       "<style scoped>\n",
       "    .dataframe tbody tr th:only-of-type {\n",
       "        vertical-align: middle;\n",
       "    }\n",
       "\n",
       "    .dataframe tbody tr th {\n",
       "        vertical-align: top;\n",
       "    }\n",
       "\n",
       "    .dataframe thead th {\n",
       "        text-align: right;\n",
       "    }\n",
       "</style>\n",
       "<table border=\"1\" class=\"dataframe\">\n",
       "  <thead>\n",
       "    <tr style=\"text-align: right;\">\n",
       "      <th></th>\n",
       "      <th>id</th>\n",
       "      <th>age</th>\n",
       "      <th>sex</th>\n",
       "      <th>height</th>\n",
       "      <th>weight</th>\n",
       "      <th>ap_hi</th>\n",
       "      <th>ap_lo</th>\n",
       "      <th>cholesterol</th>\n",
       "      <th>gluc</th>\n",
       "      <th>smoke</th>\n",
       "      <th>alco</th>\n",
       "      <th>active</th>\n",
       "      <th>cardio</th>\n",
       "    </tr>\n",
       "  </thead>\n",
       "  <tbody>\n",
       "    <tr>\n",
       "      <th>count</th>\n",
       "      <td>70000.000000</td>\n",
       "      <td>70000.000000</td>\n",
       "      <td>70000.000000</td>\n",
       "      <td>70000.000000</td>\n",
       "      <td>70000.000000</td>\n",
       "      <td>70000.000000</td>\n",
       "      <td>70000.000000</td>\n",
       "      <td>70000.000000</td>\n",
       "      <td>70000.000000</td>\n",
       "      <td>70000.000000</td>\n",
       "      <td>70000.000000</td>\n",
       "      <td>70000.000000</td>\n",
       "      <td>70000.000000</td>\n",
       "    </tr>\n",
       "    <tr>\n",
       "      <th>mean</th>\n",
       "      <td>49972.419900</td>\n",
       "      <td>19468.865814</td>\n",
       "      <td>1.349843</td>\n",
       "      <td>164.359229</td>\n",
       "      <td>74.205690</td>\n",
       "      <td>128.817286</td>\n",
       "      <td>96.630414</td>\n",
       "      <td>1.366871</td>\n",
       "      <td>1.226457</td>\n",
       "      <td>0.088129</td>\n",
       "      <td>0.053771</td>\n",
       "      <td>0.803729</td>\n",
       "      <td>0.499700</td>\n",
       "    </tr>\n",
       "    <tr>\n",
       "      <th>std</th>\n",
       "      <td>28851.302323</td>\n",
       "      <td>2467.251667</td>\n",
       "      <td>0.477253</td>\n",
       "      <td>8.210126</td>\n",
       "      <td>14.395757</td>\n",
       "      <td>154.011419</td>\n",
       "      <td>188.472530</td>\n",
       "      <td>0.680250</td>\n",
       "      <td>0.572270</td>\n",
       "      <td>0.283484</td>\n",
       "      <td>0.225568</td>\n",
       "      <td>0.397179</td>\n",
       "      <td>0.500003</td>\n",
       "    </tr>\n",
       "    <tr>\n",
       "      <th>min</th>\n",
       "      <td>0.000000</td>\n",
       "      <td>10798.000000</td>\n",
       "      <td>1.000000</td>\n",
       "      <td>55.000000</td>\n",
       "      <td>10.000000</td>\n",
       "      <td>-150.000000</td>\n",
       "      <td>-70.000000</td>\n",
       "      <td>1.000000</td>\n",
       "      <td>1.000000</td>\n",
       "      <td>0.000000</td>\n",
       "      <td>0.000000</td>\n",
       "      <td>0.000000</td>\n",
       "      <td>0.000000</td>\n",
       "    </tr>\n",
       "    <tr>\n",
       "      <th>25%</th>\n",
       "      <td>25006.750000</td>\n",
       "      <td>17664.000000</td>\n",
       "      <td>1.000000</td>\n",
       "      <td>159.000000</td>\n",
       "      <td>65.000000</td>\n",
       "      <td>120.000000</td>\n",
       "      <td>80.000000</td>\n",
       "      <td>1.000000</td>\n",
       "      <td>1.000000</td>\n",
       "      <td>0.000000</td>\n",
       "      <td>0.000000</td>\n",
       "      <td>1.000000</td>\n",
       "      <td>0.000000</td>\n",
       "    </tr>\n",
       "    <tr>\n",
       "      <th>50%</th>\n",
       "      <td>50001.500000</td>\n",
       "      <td>19703.000000</td>\n",
       "      <td>1.000000</td>\n",
       "      <td>165.000000</td>\n",
       "      <td>72.000000</td>\n",
       "      <td>120.000000</td>\n",
       "      <td>80.000000</td>\n",
       "      <td>1.000000</td>\n",
       "      <td>1.000000</td>\n",
       "      <td>0.000000</td>\n",
       "      <td>0.000000</td>\n",
       "      <td>1.000000</td>\n",
       "      <td>0.000000</td>\n",
       "    </tr>\n",
       "    <tr>\n",
       "      <th>75%</th>\n",
       "      <td>74889.250000</td>\n",
       "      <td>21327.000000</td>\n",
       "      <td>2.000000</td>\n",
       "      <td>170.000000</td>\n",
       "      <td>82.000000</td>\n",
       "      <td>140.000000</td>\n",
       "      <td>90.000000</td>\n",
       "      <td>2.000000</td>\n",
       "      <td>1.000000</td>\n",
       "      <td>0.000000</td>\n",
       "      <td>0.000000</td>\n",
       "      <td>1.000000</td>\n",
       "      <td>1.000000</td>\n",
       "    </tr>\n",
       "    <tr>\n",
       "      <th>max</th>\n",
       "      <td>99999.000000</td>\n",
       "      <td>23713.000000</td>\n",
       "      <td>3.000000</td>\n",
       "      <td>250.000000</td>\n",
       "      <td>200.000000</td>\n",
       "      <td>16020.000000</td>\n",
       "      <td>11000.000000</td>\n",
       "      <td>3.000000</td>\n",
       "      <td>3.000000</td>\n",
       "      <td>1.000000</td>\n",
       "      <td>1.000000</td>\n",
       "      <td>1.000000</td>\n",
       "      <td>1.000000</td>\n",
       "    </tr>\n",
       "  </tbody>\n",
       "</table>\n",
       "</div>"
      ],
      "text/plain": [
       "                 id           age           sex        height        weight  \\\n",
       "count  70000.000000  70000.000000  70000.000000  70000.000000  70000.000000   \n",
       "mean   49972.419900  19468.865814      1.349843    164.359229     74.205690   \n",
       "std    28851.302323   2467.251667      0.477253      8.210126     14.395757   \n",
       "min        0.000000  10798.000000      1.000000     55.000000     10.000000   \n",
       "25%    25006.750000  17664.000000      1.000000    159.000000     65.000000   \n",
       "50%    50001.500000  19703.000000      1.000000    165.000000     72.000000   \n",
       "75%    74889.250000  21327.000000      2.000000    170.000000     82.000000   \n",
       "max    99999.000000  23713.000000      3.000000    250.000000    200.000000   \n",
       "\n",
       "              ap_hi         ap_lo   cholesterol          gluc         smoke  \\\n",
       "count  70000.000000  70000.000000  70000.000000  70000.000000  70000.000000   \n",
       "mean     128.817286     96.630414      1.366871      1.226457      0.088129   \n",
       "std      154.011419    188.472530      0.680250      0.572270      0.283484   \n",
       "min     -150.000000    -70.000000      1.000000      1.000000      0.000000   \n",
       "25%      120.000000     80.000000      1.000000      1.000000      0.000000   \n",
       "50%      120.000000     80.000000      1.000000      1.000000      0.000000   \n",
       "75%      140.000000     90.000000      2.000000      1.000000      0.000000   \n",
       "max    16020.000000  11000.000000      3.000000      3.000000      1.000000   \n",
       "\n",
       "               alco        active        cardio  \n",
       "count  70000.000000  70000.000000  70000.000000  \n",
       "mean       0.053771      0.803729      0.499700  \n",
       "std        0.225568      0.397179      0.500003  \n",
       "min        0.000000      0.000000      0.000000  \n",
       "25%        0.000000      1.000000      0.000000  \n",
       "50%        0.000000      1.000000      0.000000  \n",
       "75%        0.000000      1.000000      1.000000  \n",
       "max        1.000000      1.000000      1.000000  "
      ]
     },
     "execution_count": 28,
     "metadata": {},
     "output_type": "execute_result"
    }
   ],
   "source": [
    "# Quick statistical analysis\n",
    "df.describe()"
   ]
  }
 ],
 "metadata": {
  "kernelspec": {
   "display_name": "Python 3",
   "language": "python",
   "name": "python3"
  },
  "language_info": {
   "codemirror_mode": {
    "name": "ipython",
    "version": 3
   },
   "file_extension": ".py",
   "mimetype": "text/x-python",
   "name": "python",
   "nbconvert_exporter": "python",
   "pygments_lexer": "ipython3",
   "version": "3.13.3"
  }
 },
 "nbformat": 4,
 "nbformat_minor": 5
}
