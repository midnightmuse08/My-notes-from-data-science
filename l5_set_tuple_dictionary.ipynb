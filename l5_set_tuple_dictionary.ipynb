{
 "cells": [
  {
   "cell_type": "markdown",
   "id": "117f4500",
   "metadata": {},
   "source": [
    "### This jupyter notebook contains contents of the lesson \"Sets, tuple and dictionaries in python\"\n",
    "\n",
    "**Author : Umidjon Sattorov. Machine Learning engineer**"
   ]
  },
  {
   "cell_type": "code",
   "execution_count": 26,
   "id": "53d16a69",
   "metadata": {},
   "outputs": [
    {
     "data": {
      "text/plain": [
       "['apple', 'banana', 'cherry']"
      ]
     },
     "execution_count": 26,
     "metadata": {},
     "output_type": "execute_result"
    }
   ],
   "source": [
    "sample_list = ['apple', 'banana', 'cherry']\n",
    "sample_list"
   ]
  },
  {
   "cell_type": "code",
   "execution_count": 28,
   "id": "34749119",
   "metadata": {},
   "outputs": [
    {
     "data": {
      "text/plain": [
       "['apple', 'banana', 3]"
      ]
     },
     "execution_count": 28,
     "metadata": {},
     "output_type": "execute_result"
    }
   ],
   "source": [
    "sample_list[2] = 3\n",
    "sample_list"
   ]
  },
  {
   "cell_type": "code",
   "execution_count": null,
   "id": "43573727",
   "metadata": {},
   "outputs": [],
   "source": []
  },
  {
   "cell_type": "markdown",
   "id": "5db6d644",
   "metadata": {},
   "source": [
    "### SETS"
   ]
  },
  {
   "cell_type": "code",
   "execution_count": 29,
   "id": "f751e2b7",
   "metadata": {},
   "outputs": [
    {
     "data": {
      "text/plain": [
       "{'apple', 'banana', 'cherry'}"
      ]
     },
     "execution_count": 29,
     "metadata": {},
     "output_type": "execute_result"
    }
   ],
   "source": [
    "myset = {\"banana\", \"apple\", \"cherry\"}\n",
    "myset"
   ]
  },
  {
   "cell_type": "code",
   "execution_count": 30,
   "id": "19b36f1b",
   "metadata": {},
   "outputs": [
    {
     "data": {
      "text/plain": [
       "set"
      ]
     },
     "execution_count": 30,
     "metadata": {},
     "output_type": "execute_result"
    }
   ],
   "source": [
    "type(myset)"
   ]
  },
  {
   "cell_type": "markdown",
   "id": "4df90dbd",
   "metadata": {},
   "source": [
    "A set is a collection which is unordered, unchangeable*, and unindexed."
   ]
  },
  {
   "cell_type": "code",
   "execution_count": 31,
   "id": "ea147199",
   "metadata": {},
   "outputs": [
    {
     "ename": "TypeError",
     "evalue": "'set' object does not support item assignment",
     "output_type": "error",
     "traceback": [
      "\u001b[31m---------------------------------------------------------------------------\u001b[39m",
      "\u001b[31mTypeError\u001b[39m                                 Traceback (most recent call last)",
      "\u001b[36mCell\u001b[39m\u001b[36m \u001b[39m\u001b[32mIn[31]\u001b[39m\u001b[32m, line 1\u001b[39m\n\u001b[32m----> \u001b[39m\u001b[32m1\u001b[39m \u001b[43mmyset\u001b[49m\u001b[43m[\u001b[49m\u001b[32;43m2\u001b[39;49m\u001b[43m]\u001b[49m = \u001b[32m3\u001b[39m\n",
      "\u001b[31mTypeError\u001b[39m: 'set' object does not support item assignment"
     ]
    }
   ],
   "source": [
    "myset[2] = 3"
   ]
  },
  {
   "cell_type": "code",
   "execution_count": 32,
   "id": "3aede5f8",
   "metadata": {},
   "outputs": [
    {
     "ename": "TypeError",
     "evalue": "'set' object is not subscriptable",
     "output_type": "error",
     "traceback": [
      "\u001b[31m---------------------------------------------------------------------------\u001b[39m",
      "\u001b[31mTypeError\u001b[39m                                 Traceback (most recent call last)",
      "\u001b[36mCell\u001b[39m\u001b[36m \u001b[39m\u001b[32mIn[32]\u001b[39m\u001b[32m, line 1\u001b[39m\n\u001b[32m----> \u001b[39m\u001b[32m1\u001b[39m \u001b[43mmyset\u001b[49m\u001b[43m[\u001b[49m\u001b[32;43m0\u001b[39;49m\u001b[43m]\u001b[49m\n",
      "\u001b[31mTypeError\u001b[39m: 'set' object is not subscriptable"
     ]
    }
   ],
   "source": [
    "myset[0]"
   ]
  },
  {
   "cell_type": "code",
   "execution_count": 45,
   "id": "b87f19cf",
   "metadata": {},
   "outputs": [
    {
     "name": "stdout",
     "output_type": "stream",
     "text": [
      "{True, 2, 'banana', 'cherry', 'apple'}\n"
     ]
    }
   ],
   "source": [
    "thisset = {\"apple\", \"banana\", \"cherry\", True, 1, 2, 'apple'}\n",
    "\n",
    "print(thisset)"
   ]
  },
  {
   "cell_type": "code",
   "execution_count": 34,
   "id": "9b34ec3b",
   "metadata": {},
   "outputs": [
    {
     "data": {
      "text/plain": [
       "5"
      ]
     },
     "execution_count": 34,
     "metadata": {},
     "output_type": "execute_result"
    }
   ],
   "source": [
    "# Some functions\n",
    "len(thisset)"
   ]
  },
  {
   "cell_type": "code",
   "execution_count": 35,
   "id": "2c52367a",
   "metadata": {},
   "outputs": [
    {
     "data": {
      "text/plain": [
       "{2, True, 'apple', 'banana', 'cherry', 'pineapple'}"
      ]
     },
     "execution_count": 35,
     "metadata": {},
     "output_type": "execute_result"
    }
   ],
   "source": [
    "# Specific functions\n",
    "thisset.add(\"pineapple\")\n",
    "thisset"
   ]
  },
  {
   "cell_type": "code",
   "execution_count": 36,
   "id": "90ee0ccf",
   "metadata": {},
   "outputs": [],
   "source": [
    "thisset.clear()"
   ]
  },
  {
   "cell_type": "code",
   "execution_count": 37,
   "id": "4b3c05ee",
   "metadata": {},
   "outputs": [
    {
     "data": {
      "text/plain": [
       "set()"
      ]
     },
     "execution_count": 37,
     "metadata": {},
     "output_type": "execute_result"
    }
   ],
   "source": [
    "thisset"
   ]
  },
  {
   "cell_type": "code",
   "execution_count": 46,
   "id": "35d21c65",
   "metadata": {},
   "outputs": [],
   "source": [
    "a = thisset.copy()"
   ]
  },
  {
   "cell_type": "code",
   "execution_count": 47,
   "id": "d4a937ca",
   "metadata": {},
   "outputs": [
    {
     "data": {
      "text/plain": [
       "{2, True, 'apple', 'banana', 'cherry'}"
      ]
     },
     "execution_count": 47,
     "metadata": {},
     "output_type": "execute_result"
    }
   ],
   "source": [
    "a"
   ]
  },
  {
   "cell_type": "code",
   "execution_count": 48,
   "id": "6386d03c",
   "metadata": {},
   "outputs": [
    {
     "data": {
      "text/plain": [
       "{2, True, 'apple', 'banana', 'cherry', 'salom'}"
      ]
     },
     "execution_count": 48,
     "metadata": {},
     "output_type": "execute_result"
    }
   ],
   "source": [
    "a.add(\"salom\")\n",
    "a"
   ]
  },
  {
   "cell_type": "code",
   "execution_count": 49,
   "id": "14cefd21",
   "metadata": {},
   "outputs": [
    {
     "data": {
      "text/plain": [
       "{2, True, 'apple', 'banana', 'cherry'}"
      ]
     },
     "execution_count": 49,
     "metadata": {},
     "output_type": "execute_result"
    }
   ],
   "source": [
    "thisset"
   ]
  },
  {
   "cell_type": "code",
   "execution_count": null,
   "id": "9f756946",
   "metadata": {},
   "outputs": [
    {
     "data": {
      "text/plain": [
       "{2, True, 'apple', 'banana', 'cherry'}"
      ]
     },
     "execution_count": 14,
     "metadata": {},
     "output_type": "execute_result"
    }
   ],
   "source": [
    "thisset.copy()"
   ]
  },
  {
   "cell_type": "code",
   "execution_count": 18,
   "id": "b04735c2",
   "metadata": {},
   "outputs": [
    {
     "data": {
      "text/plain": [
       "'banana'"
      ]
     },
     "execution_count": 18,
     "metadata": {},
     "output_type": "execute_result"
    }
   ],
   "source": [
    "thisset.pop()"
   ]
  },
  {
   "cell_type": "code",
   "execution_count": 22,
   "id": "0ea6cd4a",
   "metadata": {},
   "outputs": [],
   "source": [
    "thisset.remove(2)"
   ]
  },
  {
   "cell_type": "code",
   "execution_count": 23,
   "id": "4eed5efe",
   "metadata": {},
   "outputs": [
    {
     "data": {
      "text/plain": [
       "{True, 'apple', 'banana', 'cherry'}"
      ]
     },
     "execution_count": 23,
     "metadata": {},
     "output_type": "execute_result"
    }
   ],
   "source": [
    "thisset"
   ]
  },
  {
   "attachments": {
    "image.png": {
     "image/png": "[encoded data removed]"
    }
   },
   "cell_type": "markdown",
   "id": "9961edaf",
   "metadata": {},
   "source": [
    "![image.png](attachment:image.png)"
   ]
  },
  {
   "cell_type": "code",
   "execution_count": 2,
   "id": "d7529c25",
   "metadata": {},
   "outputs": [
    {
     "name": "stdout",
     "output_type": "stream",
     "text": [
      "{1, 2, 3, 4, 5}\n"
     ]
    }
   ],
   "source": [
    "# Union\n",
    "a = {1, 2, 3}\n",
    "b = {3, 4, 5}\n",
    "print(a.union(b))"
   ]
  },
  {
   "cell_type": "code",
   "execution_count": 13,
   "id": "86c2048d",
   "metadata": {},
   "outputs": [
    {
     "name": "stdout",
     "output_type": "stream",
     "text": [
      "{2, 3}\n"
     ]
    }
   ],
   "source": [
    "# Intersection\n",
    "a = {1, 2, 3}\n",
    "b = {2, 3, 4}\n",
    "print(a.intersection(b))"
   ]
  },
  {
   "cell_type": "code",
   "execution_count": 14,
   "id": "318af72d",
   "metadata": {},
   "outputs": [
    {
     "name": "stdout",
     "output_type": "stream",
     "text": [
      "{1}\n"
     ]
    }
   ],
   "source": [
    "# Difference\n",
    "a = {1, 2, 3}\n",
    "b = {2, 3, 4}\n",
    "print(a.difference(b))"
   ]
  },
  {
   "cell_type": "code",
   "execution_count": 16,
   "id": "75bf4720",
   "metadata": {},
   "outputs": [
    {
     "name": "stdout",
     "output_type": "stream",
     "text": [
      "{1, 2, 4, 5}\n"
     ]
    }
   ],
   "source": [
    "# Symmetric difference\n",
    "a = {1, 2, 3}\n",
    "b = {3, 4, 5}\n",
    "print(a.symmetric_difference(b))"
   ]
  },
  {
   "cell_type": "code",
   "execution_count": 17,
   "id": "4e97b5fa",
   "metadata": {},
   "outputs": [
    {
     "name": "stdout",
     "output_type": "stream",
     "text": [
      "True\n",
      "True\n",
      "True\n"
     ]
    }
   ],
   "source": [
    "# issubset(), issuperset(), isdisjoint()\n",
    "a = {1, 2}\n",
    "b = {1, 2, 3}\n",
    "print(a.issubset(b))  \n",
    "print(b.issuperset(a)) \n",
    "print(a.isdisjoint({3, 4}))"
   ]
  },
  {
   "cell_type": "markdown",
   "id": "6ec4b086",
   "metadata": {},
   "source": [
    "Tasks :\n",
    "\n",
    "1) Дан список имён студентов. Некоторые имена повторяются. Напишите функцию, которая возвращает уникальные имена с помощью множеств."
   ]
  },
  {
   "cell_type": "code",
   "execution_count": 50,
   "id": "9d3c99ea",
   "metadata": {},
   "outputs": [
    {
     "data": {
      "text/plain": [
       "{'anna', 'bob', 'dan', 'kim'}"
      ]
     },
     "execution_count": 50,
     "metadata": {},
     "output_type": "execute_result"
    }
   ],
   "source": [
    "# Your code goes h\n",
    "names = {\"anna\", \"dan\", \"bob\", \"anna\", \"kim\", \"bob\"}\n",
    "names"
   ]
  },
  {
   "cell_type": "code",
   "execution_count": 51,
   "id": "8b4a8b10",
   "metadata": {},
   "outputs": [
    {
     "data": {
      "text/plain": [
       "{'anna', 'bob', 'dan', 'kim'}"
      ]
     },
     "execution_count": 51,
     "metadata": {},
     "output_type": "execute_result"
    }
   ],
   "source": [
    "names"
   ]
  },
  {
   "cell_type": "markdown",
   "id": "8f916d99",
   "metadata": {},
   "source": [
    "2) Даны два множества друзей двух людей. Напишите функцию, возвращающую их общих друзей."
   ]
  },
  {
   "cell_type": "code",
   "execution_count": 53,
   "id": "02384ffc",
   "metadata": {},
   "outputs": [
    {
     "name": "stdout",
     "output_type": "stream",
     "text": [
      "{'bob', 'jame'}\n"
     ]
    }
   ],
   "source": [
    "# Your code goes here\n",
    "a = { \"anna\", \"bob\", \"jame\"}\n",
    "b = {\"bob\", \"kim\", \"dan\", \"jame\"}\n",
    "print(a.intersection(b))"
   ]
  },
  {
   "cell_type": "markdown",
   "id": "b71eae5b",
   "metadata": {},
   "source": [
    "3) Создайте функцию, которая принимает два множества чисел и возвращает словарь с результатами:\n",
    "\n",
    "Объединение\n",
    "\n",
    "Пересечение\n",
    "\n",
    "Разность (A - B)\n",
    "\n",
    "Симметрическая разность"
   ]
  },
  {
   "cell_type": "code",
   "execution_count": 71,
   "id": "c6e57a90",
   "metadata": {},
   "outputs": [],
   "source": [
    "def set_operations(set_a, set_b):\n",
    "    # Ваш код здесь\n",
    "    print(\"union:\", set_a.union(set_b))\n",
    "    print(\"intersection:\", set_a.intersection(set_b))\n",
    "    print(\"difference:\", set_a.difference(set_b))\n",
    "    print(\"symmetric_difference:\", set_a.symmetric_difference(set_b))\n",
    "    \n",
    "\n",
    "    pass\n",
    "\n",
    "# Пример\n",
    "set_a = {1, 2, 3, 4}\n",
    "set_b = {3, 4, 5, 6}\n",
    "\n",
    "# Ожидаемый результат:\n",
    "# {\n",
    "#   'union': {1, 2, 3, 4, 5, 6},\n",
    "#   'intersection': {3, 4},\n",
    "#   'difference': {1, 2},\n",
    "#   'symmetric_difference': {1, 2, 5, 6}\n",
    "# }\n"
   ]
  },
  {
   "cell_type": "code",
   "execution_count": 72,
   "id": "cb07ef9a",
   "metadata": {},
   "outputs": [
    {
     "name": "stdout",
     "output_type": "stream",
     "text": [
      "union: {1, 2, 3, 4, 5, 6}\n",
      "intersection: {3, 4}\n",
      "difference: {1, 2}\n",
      "symmetric_difference: {1, 2, 5, 6}\n"
     ]
    }
   ],
   "source": [
    "set_a= {1,2,3,4}\n",
    "set_b= {3,4,5,6}\n",
    "set_operations(set_a, set_b)"
   ]
  },
  {
   "cell_type": "markdown",
   "id": "a717c00e",
   "metadata": {},
   "source": [
    "4) Дан абзац текста. Необходимо извлечь уникальные гласные, которые встречаются в тексте."
   ]
  },
  {
   "cell_type": "code",
   "execution_count": null,
   "id": "478fe1e9",
   "metadata": {},
   "outputs": [],
   "source": [
    "def extract_vowels(paragraph):\n",
    "    # Ваш код здесь\n",
    "    \n",
    "    pass\n",
    "\n",
    "# Пример\n",
    "text = \"Python — это круто!\"\n",
    "print(extract_vowels(text))  # Вывод: {'о', 'у', 'а', 'е', ...} (в зависимости от текста)\n"
   ]
  },
  {
   "cell_type": "markdown",
   "id": "365e2032",
   "metadata": {},
   "source": [
    "5) Даны два списка:\n",
    "\n",
    "keywords: список обязательных ключевых слов.\n",
    "\n",
    "document_words: слова из документа.\n",
    "\n",
    "Напишите функцию, возвращающую:\n",
    "\n",
    "Отсутствующие ключевые слова.\n",
    "\n",
    "Лишние слова, не входящие в список ключевых слов."
   ]
  },
  {
   "cell_type": "code",
   "execution_count": null,
   "id": "139616ce",
   "metadata": {},
   "outputs": [],
   "source": [
    "def keyword_check(keywords, document_words):\n",
    "    # Ваш код здесь\n",
    "    \n",
    "    pass\n",
    "\n",
    "# Пример\n",
    "keywords = ['python', 'data', 'model', 'train']\n",
    "document = ['data', 'train', 'test', 'validate', 'python']\n",
    "\n",
    "# Вывод: (['model'], ['test', 'validate'])\n"
   ]
  },
  {
   "cell_type": "markdown",
   "id": "76512f13",
   "metadata": {},
   "source": [
    "### Tuple"
   ]
  },
  {
   "cell_type": "markdown",
   "id": "fd898741",
   "metadata": {},
   "source": [
    "A tuple is a collection which is ordered and unchangeable."
   ]
  },
  {
   "cell_type": "code",
   "execution_count": 61,
   "id": "52c54432",
   "metadata": {},
   "outputs": [
    {
     "data": {
      "text/plain": [
       "('banana', 'apple', 'cherry', 'apple')"
      ]
     },
     "execution_count": 61,
     "metadata": {},
     "output_type": "execute_result"
    }
   ],
   "source": [
    "thistuple = (\"banana\", \"apple\", \"cherry\", \"apple\")\n",
    "thistuple"
   ]
  },
  {
   "cell_type": "code",
   "execution_count": 62,
   "id": "ac0c1f6d",
   "metadata": {},
   "outputs": [
    {
     "data": {
      "text/plain": [
       "4"
      ]
     },
     "execution_count": 62,
     "metadata": {},
     "output_type": "execute_result"
    }
   ],
   "source": [
    "len(thistuple)"
   ]
  },
  {
   "cell_type": "code",
   "execution_count": 63,
   "id": "beaeb8ef",
   "metadata": {},
   "outputs": [
    {
     "data": {
      "text/plain": [
       "'cherry'"
      ]
     },
     "execution_count": 63,
     "metadata": {},
     "output_type": "execute_result"
    }
   ],
   "source": [
    "thistuple[2] "
   ]
  },
  {
   "cell_type": "code",
   "execution_count": 64,
   "id": "ff6c2625",
   "metadata": {},
   "outputs": [
    {
     "ename": "TypeError",
     "evalue": "'tuple' object does not support item assignment",
     "output_type": "error",
     "traceback": [
      "\u001b[31m---------------------------------------------------------------------------\u001b[39m",
      "\u001b[31mTypeError\u001b[39m                                 Traceback (most recent call last)",
      "\u001b[36mCell\u001b[39m\u001b[36m \u001b[39m\u001b[32mIn[64]\u001b[39m\u001b[32m, line 1\u001b[39m\n\u001b[32m----> \u001b[39m\u001b[32m1\u001b[39m \u001b[43mthistuple\u001b[49m\u001b[43m[\u001b[49m\u001b[32;43m2\u001b[39;49m\u001b[43m]\u001b[49m = \u001b[33m'\u001b[39m\u001b[33mbanana\u001b[39m\u001b[33m'\u001b[39m\n",
      "\u001b[31mTypeError\u001b[39m: 'tuple' object does not support item assignment"
     ]
    }
   ],
   "source": [
    "thistuple[2] = 'banana'"
   ]
  },
  {
   "cell_type": "code",
   "execution_count": 65,
   "id": "c1cde0d5",
   "metadata": {},
   "outputs": [
    {
     "data": {
      "text/plain": [
       "2"
      ]
     },
     "execution_count": 65,
     "metadata": {},
     "output_type": "execute_result"
    }
   ],
   "source": [
    "# Specific functions of tuple \n",
    "thistuple.count('apple')"
   ]
  },
  {
   "cell_type": "code",
   "execution_count": 66,
   "id": "5ba73346",
   "metadata": {},
   "outputs": [
    {
     "data": {
      "text/plain": [
       "1"
      ]
     },
     "execution_count": 66,
     "metadata": {},
     "output_type": "execute_result"
    }
   ],
   "source": [
    "thistuple.index('apple')"
   ]
  },
  {
   "cell_type": "markdown",
   "id": "f6d9d912",
   "metadata": {},
   "source": [
    "**Tasks**"
   ]
  },
  {
   "cell_type": "markdown",
   "id": "98ba5fab",
   "metadata": {},
   "source": [
    "1) Дан кортеж с тремя элементами: имя, возраст, город. Напишите функцию, которая распаковывает его и возвращает красиво оформленную строку."
   ]
  },
  {
   "cell_type": "code",
   "execution_count": 76,
   "id": "dd1f377b",
   "metadata": {},
   "outputs": [],
   "source": [
    "def describe_person(info_tuple):\n",
    "    # Ваш код здесь\n",
    "    print(\"Имя:\",info_tuple[0],\n",
    "           \"Возраст:\", info_tuple[1], \n",
    "           \"Город:\", info_tuple[2])\n",
    "    pass\n",
    "\n",
    "# Пример\n",
    "person = (\"Умиджон\", 25, \"Ташкент\")\n",
    "# Вывод: \"Имя: Умиджон, Возраст: 25, Город: Ташкент\""
   ]
  },
  {
   "cell_type": "code",
   "execution_count": 77,
   "id": "29d401ed",
   "metadata": {},
   "outputs": [
    {
     "name": "stdout",
     "output_type": "stream",
     "text": [
      "Имя: Мухлиса Возраст: 17 Город: Ташкент\n"
     ]
    }
   ],
   "source": [
    "info_tuple= (\"Мухлиса\", 17, \"Ташкент\")\n",
    "describe_person(info_tuple)"
   ]
  },
  {
   "cell_type": "markdown",
   "id": "a4c5f14f",
   "metadata": {},
   "source": [
    "2. Напишите функцию, которая принимает кортеж чисел и возвращает наибольшее число."
   ]
  },
  {
   "cell_type": "code",
   "execution_count": 87,
   "id": "c83b496e",
   "metadata": {},
   "outputs": [],
   "source": [
    "def find_max(numbers):\n",
    "    # Ваш код здесь\\\\\n",
    "    max_num= numbers[0]\n",
    "\n",
    "    for i in numbers:\n",
    "        if i > max_num:\n",
    "            max_num = i\n",
    "            \n",
    "    \n",
    "    return max_num\n",
    "\n",
    "# Пример\n",
    "nums = (5, 12, 7, 3, 9)\n",
    "# Вывод: 12"
   ]
  },
  {
   "cell_type": "code",
   "execution_count": 88,
   "id": "8d479a92",
   "metadata": {},
   "outputs": [
    {
     "data": {
      "text/plain": [
       "12"
      ]
     },
     "execution_count": 88,
     "metadata": {},
     "output_type": "execute_result"
    }
   ],
   "source": [
    "numbers= (5, 12, 7, 3, 9)\n",
    "find_max(numbers)"
   ]
  },
  {
   "cell_type": "markdown",
   "id": "cc477844",
   "metadata": {},
   "source": [
    "3) Напишите функцию, которая считает, сколько раз заданный элемент встречается в кортеже."
   ]
  },
  {
   "cell_type": "code",
   "execution_count": 97,
   "id": "4f4e54bb",
   "metadata": {},
   "outputs": [],
   "source": [
    "def count_element(tpl, element):\n",
    "    # Ваш код здесь\n",
    "    i = 0\n",
    "    for el in tpl:\n",
    "        if el == element :\n",
    "            i += 1\n",
    "\n",
    "    return i\n",
    "\n",
    "# Пример\n",
    "tpl = ('a', 'b', 'a', 'c', 'a')\n",
    "# count_element(tpl, 'a') → 3"
   ]
  },
  {
   "cell_type": "code",
   "execution_count": 95,
   "id": "3c9c1609",
   "metadata": {},
   "outputs": [
    {
     "data": {
      "text/plain": [
       "3"
      ]
     },
     "execution_count": 95,
     "metadata": {},
     "output_type": "execute_result"
    }
   ],
   "source": [
    "tpl= ('a', 'b', 'a', 'c', 'a')\n",
    "count_element(tpl, 'a')"
   ]
  },
  {
   "cell_type": "code",
   "execution_count": null,
   "id": "43e3d54d",
   "metadata": {},
   "outputs": [
    {
     "data": {
      "text/plain": [
       "2"
      ]
     },
     "execution_count": 89,
     "metadata": {},
     "output_type": "execute_result"
    }
   ],
   "source": [
    "tpl= (9, 0, 0, 99, 9)\n",
    "tpl.count(0\n",
    "          )"
   ]
  },
  {
   "cell_type": "markdown",
   "id": "9a0f848b",
   "metadata": {},
   "source": [
    "4) Даны два кортежа. Напишите функцию, которая возвращает:\n",
    "\n",
    "Общие элементы\n",
    "\n",
    "Только уникальные элементы первого кортежа"
   ]
  },
  {
   "cell_type": "code",
   "execution_count": 121,
   "id": "51df7f5e",
   "metadata": {},
   "outputs": [],
   "source": [
    "def compare_tuples(tpl1, tpl2):\n",
    "    # Ваш код здесь\n",
    "    a= set(tpl1)\n",
    "    b=set(tpl2)\n",
    "    print(\"Результат:\", (\"общие:\", a.intersection(b)), \"уникальные:\", a.difference(b))\n",
    "   \n",
    "    \n",
    "    pass\n",
    "\n",
    "# Пример:\n",
    "# tpl1 = (1, 2, 3, 4)\n",
    "# tpl2 = (3, 4, 5)\n",
    "# Результат: (общие: (3, 4), уникальные: (1, 2))\n"
   ]
  },
  {
   "cell_type": "code",
   "execution_count": 123,
   "id": "88530740",
   "metadata": {},
   "outputs": [
    {
     "name": "stdout",
     "output_type": "stream",
     "text": [
      "Результат: ('общие:', {3, 4}) уникальные: {1, 2}\n"
     ]
    }
   ],
   "source": [
    "tpl1=(1,2,3,4)\n",
    "tpl2=(3,4,5)\n",
    "compare_tuples(tpl1, tpl2)"
   ]
  },
  {
   "cell_type": "markdown",
   "id": "4ca320c5",
   "metadata": {},
   "source": [
    "5) Дан список кортежей вида (имя, возраст). Отсортируйте его по возрасту по возрастанию."
   ]
  },
  {
   "cell_type": "code",
   "execution_count": 126,
   "id": "2aa70b11",
   "metadata": {},
   "outputs": [],
   "source": [
    "def sorted_by_age(data):\n",
    "    result = []\n",
    "    empty_list = [i[1] for i in data]\n",
    "    empty_list.sort()\n",
    "    for i in empty_list :\n",
    "        for el in data :\n",
    "            if i == el[1] :\n",
    "                result.append(el)\n",
    "\n",
    "    return result\n",
    "\n",
    "\n",
    "# Пример:\n",
    "people = [(\"Али\", 30), (\"Зара\", 22), (\"Боб\", 25)]\n",
    "# Результат: [('Зара', 22), ('Боб', 25), ('Али', 30)]"
   ]
  },
  {
   "cell_type": "code",
   "execution_count": 128,
   "id": "37607f3c",
   "metadata": {},
   "outputs": [
    {
     "data": {
      "text/plain": [
       "[('Зара', 22), ('Боб', 25), ('Али', 30)]"
      ]
     },
     "execution_count": 128,
     "metadata": {},
     "output_type": "execute_result"
    }
   ],
   "source": [
    "data= [(\"Али\", 30), (\"Зара\", 22), (\"Боб\", 25)]\n",
    "sorted_by_age(data)"
   ]
  },
  {
   "cell_type": "markdown",
   "id": "040088ca",
   "metadata": {},
   "source": [
    "### Dictionary"
   ]
  },
  {
   "cell_type": "code",
   "execution_count": 1,
   "id": "4318325b",
   "metadata": {},
   "outputs": [
    {
     "data": {
      "text/plain": [
       "{'brand': 'Ford', 'model': 'Mustang', 'year': 1964}"
      ]
     },
     "execution_count": 1,
     "metadata": {},
     "output_type": "execute_result"
    }
   ],
   "source": [
    "thisdict = {\n",
    "  \"brand\": \"Ford\",\n",
    "  \"model\": \"Mustang\",\n",
    "  \"year\": 1964\n",
    "}\n",
    "thisdict"
   ]
  },
  {
   "cell_type": "code",
   "execution_count": 47,
   "id": "bb2fd86c",
   "metadata": {},
   "outputs": [
    {
     "data": {
      "text/plain": [
       "dict"
      ]
     },
     "execution_count": 47,
     "metadata": {},
     "output_type": "execute_result"
    }
   ],
   "source": [
    "type(thisdict)"
   ]
  },
  {
   "cell_type": "markdown",
   "id": "3cc9aedc",
   "metadata": {},
   "source": [
    "A dictionary is a collection which is ordered*, changeable and do not allow duplicates."
   ]
  },
  {
   "cell_type": "code",
   "execution_count": 48,
   "id": "c2329475",
   "metadata": {},
   "outputs": [
    {
     "data": {
      "text/plain": [
       "{'brand': 'BMW', 'model': 'Mustang', 'year': 1964}"
      ]
     },
     "execution_count": 48,
     "metadata": {},
     "output_type": "execute_result"
    }
   ],
   "source": [
    "thisdict['brand'] = 'BMW'\n",
    "thisdict"
   ]
  },
  {
   "cell_type": "code",
   "execution_count": 49,
   "id": "062ed7db",
   "metadata": {},
   "outputs": [
    {
     "data": {
      "text/plain": [
       "{'brand': 'BMW',\n",
       " 'model': 'Mustang',\n",
       " 'year': 1964,\n",
       " 'color': ['red', 'white', 'black']}"
      ]
     },
     "execution_count": 49,
     "metadata": {},
     "output_type": "execute_result"
    }
   ],
   "source": [
    "thisdict['color'] = ['red', 'white', 'black']\n",
    "thisdict"
   ]
  },
  {
   "cell_type": "code",
   "execution_count": 50,
   "id": "15e509b3",
   "metadata": {},
   "outputs": [
    {
     "data": {
      "text/plain": [
       "dict_keys(['brand', 'model', 'year', 'color'])"
      ]
     },
     "execution_count": 50,
     "metadata": {},
     "output_type": "execute_result"
    }
   ],
   "source": [
    "# Specific functions of dictionaries\n",
    "thisdict.keys()"
   ]
  },
  {
   "cell_type": "code",
   "execution_count": 51,
   "id": "84f31c3d",
   "metadata": {},
   "outputs": [
    {
     "data": {
      "text/plain": [
       "dict_values(['BMW', 'Mustang', 1964, ['red', 'white', 'black']])"
      ]
     },
     "execution_count": 51,
     "metadata": {},
     "output_type": "execute_result"
    }
   ],
   "source": [
    "thisdict.values()"
   ]
  },
  {
   "cell_type": "code",
   "execution_count": 56,
   "id": "835cd814",
   "metadata": {},
   "outputs": [
    {
     "data": {
      "text/plain": [
       "{'model': 'Mustang', 'year': 1964}"
      ]
     },
     "execution_count": 56,
     "metadata": {},
     "output_type": "execute_result"
    }
   ],
   "source": [
    "thisdict.pop('brand')\n",
    "thisdict"
   ]
  },
  {
   "cell_type": "code",
   "execution_count": null,
   "id": "40069e8e",
   "metadata": {},
   "outputs": [],
   "source": [
    "thisdict.update()"
   ]
  },
  {
   "cell_type": "markdown",
   "id": "abbc0260",
   "metadata": {},
   "source": [
    "**Tasks**"
   ]
  },
  {
   "cell_type": "markdown",
   "id": "e3f6f233",
   "metadata": {},
   "source": [
    "1) Напишите функцию, которая принимает строку (предложение), разбивает её на слова и возвращает словарь, где указано, сколько раз каждое слово встретилось."
   ]
  },
  {
   "cell_type": "code",
   "execution_count": 1,
   "id": "530ffdbc",
   "metadata": {},
   "outputs": [],
   "source": [
    "def word_frequency(text):\n",
    "    # Ваш код здесь\n",
    "    result = {}\n",
    "    splitted_text = text.split()\n",
    "    for words in splitted_text:\n",
    "        result[words] = splitted_text.count(words)\n",
    "        \n",
    "    print(\" Результат:\", result)\n",
    "\n",
    "# Пример:\n",
    "sentence = \"python is great and python is easy\"\n",
    "# Результат: {'python': 2, 'is': 2, 'great': 1, 'and': 1, 'easy': 1}"
   ]
  },
  {
   "cell_type": "code",
   "execution_count": 2,
   "id": "5efcb6e7",
   "metadata": {},
   "outputs": [
    {
     "name": "stdout",
     "output_type": "stream",
     "text": [
      " Результат: {'python': 2, 'is': 2, 'great': 1, 'and': 1, 'easy': 1}\n"
     ]
    }
   ],
   "source": [
    "sentence=\"python is great and python is easy\"\n",
    "word_frequency(sentence)"
   ]
  },
  {
   "cell_type": "markdown",
   "id": "6c29f640",
   "metadata": {},
   "source": [
    "2) Дан словарь, где ключи — имена студентов, а значения — списки их оценок. Напишите функцию, которая возвращает новый словарь с именами и средним баллом каждого студента."
   ]
  },
  {
   "cell_type": "code",
   "execution_count": null,
   "id": "471ada02",
   "metadata": {},
   "outputs": [],
   "source": [
    "for p1, p2 in zip(list1, list2):\n",
    "    "
   ]
  },
  {
   "cell_type": "code",
   "execution_count": 27,
   "id": "022b0418",
   "metadata": {},
   "outputs": [],
   "source": [
    "def average_scores(grades_dict):\n",
    "    # Ваш код зде\n",
    "    result = {}\n",
    "    for name, grades in grades_dict.items():\n",
    "        if grades:\n",
    "            result[name]= sum(grades) / len(grades)\n",
    "        else:\n",
    "            result[name]= 0\n",
    "\n",
    "    print(\"Результат:\", result)\n",
    "\n",
    "\n",
    "\n",
    "# Пример:\n",
    "grades = {\n",
    "    'Alice': [80, 90, 100],\n",
    "    'Bob': [70, 75],\n",
    "    'Eve': [100, 100, 100]\n",
    "}\n",
    "\n",
    "# Результат: {'Alice': 90.0, 'Bob': 72.5, 'Eve': 100.0}"
   ]
  },
  {
   "cell_type": "code",
   "execution_count": 28,
   "id": "13edfb4f",
   "metadata": {},
   "outputs": [
    {
     "name": "stdout",
     "output_type": "stream",
     "text": [
      "Результат: {'Alice': 90.0, 'Bob': 72.5, 'Eve': 100.0}\n"
     ]
    }
   ],
   "source": [
    "grades = {\n",
    "    'Alice': [80, 90, 100],\n",
    "    'Bob': [70, 75],\n",
    "    'Eve': [100, 100, 100]\n",
    "}\n",
    "average_scores(grades)"
   ]
  },
  {
   "cell_type": "markdown",
   "id": "461b5ee0",
   "metadata": {},
   "source": [
    "3) Дан словарь, где ключ — имя сотрудника, значение — отдел. Преобразуйте его в словарь, где ключ — отдел, а значение — список сотрудников из этого отдела."
   ]
  },
  {
   "cell_type": "code",
   "execution_count": 3,
   "id": "96f06e8a",
   "metadata": {},
   "outputs": [],
   "source": [
    "def reverse_dict(original):\n",
    "    # Ваш код здесь\n",
    "    result = {}\n",
    "    for name , department in original.items():\n",
    "        result[department] = name \n",
    "    return result\n",
    "\n",
    "# Пример:\n",
    "employees = {\n",
    "    'Alice': 'HR',\n",
    "    'Bob': 'IT',\n",
    "    'Charlie': 'IT',\n",
    "    'Diana': 'HR',\n",
    "}\n",
    "\n",
    "# Результат:\n",
    "# {\n",
    "#     'HR': ['Alice', 'Diana'],\n",
    "#     'IT': ['Bob', 'Charlie']\n",
    "# }"
   ]
  },
  {
   "cell_type": "code",
   "execution_count": 4,
   "id": "a26be804",
   "metadata": {},
   "outputs": [
    {
     "data": {
      "text/plain": [
       "{'HR': 'Diana', 'IT': 'Charlie'}"
      ]
     },
     "execution_count": 4,
     "metadata": {},
     "output_type": "execute_result"
    }
   ],
   "source": [
    "employees = {\n",
    "    'Alice': 'HR',\n",
    "    'Bob': 'IT',\n",
    "    'Charlie': 'IT',\n",
    "    'Diana': 'HR',\n",
    "}\n",
    "reverse_dict(employees)"
   ]
  },
  {
   "cell_type": "markdown",
   "id": "4add6d2a",
   "metadata": {},
   "source": [
    "4) Напишите функцию, которая объединяет два словаря. Если ключ совпадает, значения нужно сложить."
   ]
  },
  {
   "cell_type": "code",
   "execution_count": 13,
   "id": "f5a34456",
   "metadata": {},
   "outputs": [],
   "source": [
    "def merge_dicts(dict1, dict2):\n",
    "    # Ваш код здесь\n",
    "    result = dict1.copy()\n",
    "    for key, value in dict2.items():\n",
    "        if key in result:\n",
    "            result[key] += value\n",
    "        else:\n",
    "            result[key] = value\n",
    "\n",
    "    print(\"Результат:\", result)   \n",
    "\n",
    "\n",
    "\n",
    "\n",
    "\n",
    "\n",
    "    \"\"\"  a = set(dict1)\n",
    "    b = set(dict2)\n",
    "    print(\"Результат:\", a.union(b))\"\"\"\n",
    "    \n",
    "\n",
    "\n",
    "    \n",
    "\n",
    "# Пример:\n",
    "a = {'a': 5, 'b': 3}\n",
    "b = {'a': 2, 'c': 4}\n",
    "\n",
    "# Результат: {'a': 7, 'b': 3, 'c': 4}"
   ]
  },
  {
   "cell_type": "code",
   "execution_count": 15,
   "id": "507bac4d",
   "metadata": {},
   "outputs": [
    {
     "data": {
      "text/plain": [
       "dict_items([('a', 2), ('c', 4)])"
      ]
     },
     "execution_count": 15,
     "metadata": {},
     "output_type": "execute_result"
    }
   ],
   "source": [
    "dict2.items()"
   ]
  },
  {
   "cell_type": "code",
   "execution_count": 14,
   "id": "d432cfd5",
   "metadata": {},
   "outputs": [
    {
     "name": "stdout",
     "output_type": "stream",
     "text": [
      "Результат: {'a': 7, 'b': 3, 'c': 4}\n"
     ]
    }
   ],
   "source": [
    "dict1= {'a': 5, 'b': 3}\n",
    "dict2= {'a': 2, 'c': 4}\n",
    "merge_dicts(dict1, dict2)"
   ]
  },
  {
   "cell_type": "markdown",
   "id": "5223077b",
   "metadata": {},
   "source": [
    "5) Дан словарь с товарами и их ценами. Верните новый словарь, содержащий только те товары, цена которых меньше указанного порога."
   ]
  },
  {
   "cell_type": "code",
   "execution_count": 19,
   "id": "0ce9d13c",
   "metadata": {},
   "outputs": [],
   "source": [
    "def filter_by_price(products, threshold):\n",
    "    # Ваш код здесь\n",
    "    result = {}\n",
    "    for items, price in products.items():\n",
    "        if price < threshold:\n",
    "            result[items] = price \n",
    "    return result\n",
    "\n",
    "# Пример:\n",
    "items = {\n",
    "    'apple': 1.2,\n",
    "    'banana': 0.8,\n",
    "    'avocado': 2.5,\n",
    "    'mango': 1.5\n",
    "}\n",
    "\n",
    "# filter_by_price(items, 1.5) → {'apple': 1.2, 'banana': 0.8}"
   ]
  },
  {
   "cell_type": "code",
   "execution_count": 20,
   "id": "380d8e15",
   "metadata": {},
   "outputs": [
    {
     "data": {
      "text/plain": [
       "{'apple': 1.2, 'banana': 0.8}"
      ]
     },
     "execution_count": 20,
     "metadata": {},
     "output_type": "execute_result"
    }
   ],
   "source": [
    "items = {\n",
    "    'apple': 1.2,\n",
    "    'banana': 0.8,\n",
    "    'avocado': 2.5,\n",
    "    'mango': 1.5\n",
    "}\n",
    "filter_by_price(items, 1.5)"
   ]
  },
  {
   "cell_type": "code",
   "execution_count": null,
   "id": "f5ce9504",
   "metadata": {},
   "outputs": [],
   "source": []
  }
 ],
 "metadata": {
  "kernelspec": {
   "display_name": "Python 3",
   "language": "python",
   "name": "python3"
  },
  "language_info": {
   "codemirror_mode": {
    "name": "ipython",
    "version": 3
   },
   "file_extension": ".py",
   "mimetype": "text/x-python",
   "name": "python",
   "nbconvert_exporter": "python",
   "pygments_lexer": "ipython3",
   "version": "3.13.5"
  }
 },
 "nbformat": 4,
 "nbformat_minor": 5
}
