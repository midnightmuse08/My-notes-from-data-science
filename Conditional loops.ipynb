{
 "cells": [
  {
   "cell_type": "markdown",
   "id": "11cc68ff",
   "metadata": {},
   "source": [
    "### This jupyter notebook contains practical tasks for the topic \"Conditional Loops\"\n",
    "\n",
    "**Author : Umidjon Sattorov. Machine Learning engineer**"
   ]
  },
  {
   "cell_type": "markdown",
   "id": "57a14cee",
   "metadata": {},
   "source": [
    "1. Напишите программу, которая выводит на экран только положительные числа из следующего списка."
   ]
  },
  {
   "cell_type": "code",
   "execution_count": 1,
   "id": "ede07340",
   "metadata": {},
   "outputs": [
    {
     "name": "stdout",
     "output_type": "stream",
     "text": [
      "5\n",
      "10\n",
      "12\n"
     ]
    }
   ],
   "source": [
    "numbers= [5, -3, 10, -8, 0, 12, -1]\n",
    "# your code goes here\n",
    "for i in numbers:\n",
    "    if i > 0:\n",
    "        print(i)\n",
    "\n"
   ]
  },
  {
   "cell_type": "markdown",
   "id": "937c1c14",
   "metadata": {},
   "source": [
    "2. Напишите программу, которая выводит на экран только чётные числа из списка numbers."
   ]
  },
  {
   "cell_type": "code",
   "execution_count": 2,
   "id": "bef9acd4",
   "metadata": {},
   "outputs": [
    {
     "name": "stdout",
     "output_type": "stream",
     "text": [
      "10\n",
      "-8\n",
      "0\n",
      "12\n"
     ]
    }
   ],
   "source": [
    "numbers = [5, -3, 10, -8, 0, 12, -1]\n",
    "\n",
    "# your code goes here\n",
    "for i in numbers:\n",
    "    if i % 2 == 0:\n",
    "        print(i)\n"
   ]
  },
  {
   "cell_type": "markdown",
   "id": "81c7861a",
   "metadata": {},
   "source": [
    "3) В математике и экономике существует понятие чисел Фибоначчи, которые образуют следующую бесконечную последовательность:\n",
    "\n",
    "1, 1, 2, 3, 5, 8, 13 ...\n",
    "\n",
    "(Где первые два числа — это 1 и 1, а каждое последующее число является суммой двух предыдущих.)\n",
    "\n",
    "Напишите программу, которая выводит на экран только однозначные и двузначные числа из этой последовательности."
   ]
  },
  {
   "cell_type": "code",
   "execution_count": 3,
   "id": "168cdfa2",
   "metadata": {},
   "outputs": [
    {
     "name": "stdout",
     "output_type": "stream",
     "text": [
      "1\n",
      "1\n",
      "2\n",
      "3\n",
      "5\n",
      "8\n",
      "13\n",
      "21\n",
      "34\n",
      "55\n",
      "89\n"
     ]
    }
   ],
   "source": [
    "a = 1\n",
    "b = 1\n",
    "while a < 100:\n",
    "    print(a)\n",
    "    a, b = b,a + b\n"
   ]
  },
  {
   "cell_type": "markdown",
   "id": "3f4f715c",
   "metadata": {},
   "source": [
    "4. Создайте систему, которая запрашивает у пользователя пароль для входа в систему максимум 3 раза.\n",
    "\n",
    "Если пользователь не введёт правильный пароль, который хранится в переменной password, выведите сообщение: \"Система заблокирована\".\n",
    "\n",
    "В противном случае выведите сообщение: \"Добро пожаловать в систему\""
   ]
  },
  {
   "cell_type": "code",
   "execution_count": 4,
   "id": "7eff67bb",
   "metadata": {},
   "outputs": [
    {
     "data": {
      "text/plain": [
       "False"
      ]
     },
     "execution_count": 4,
     "metadata": {},
     "output_type": "execute_result"
    }
   ],
   "source": [
    "bool(0)"
   ]
  },
  {
   "cell_type": "code",
   "execution_count": null,
   "id": "ef63c9b5",
   "metadata": {},
   "outputs": [
    {
     "name": "stdout",
     "output_type": "stream",
     "text": [
      "Qayta urining\n",
      "Qayta urining\n"
     ]
    }
   ],
   "source": [
    "password = \"topolmaysan\"\n",
    "# your code goes here\n",
    "user_input = input(\"\")\n",
    "max_attempts = 3\n",
    "check = 0\n",
    "for attempt in range(1 , max_attempts + 1):\n",
    "    \n",
    "    if user_input == password:\n",
    "        print(\"Добро пожаловать в систему\")\n",
    "        check = 10\n",
    "    else:\n",
    "        print(\"Qayta urining\")\n",
    "        user_input = input(\"\")\n",
    "\n",
    "if check :\n",
    "    pass\n",
    "else : \n",
    "    print(\"Bloklangan\")\n",
    "\n",
    "\n",
    "\n",
    "\n"
   ]
  },
  {
   "cell_type": "code",
   "execution_count": null,
   "id": "7d052354",
   "metadata": {},
   "outputs": [],
   "source": [
    "\n",
    "\n",
    "dict={ }"
   ]
  },
  {
   "cell_type": "code",
   "execution_count": 2,
   "id": "305f335e",
   "metadata": {},
   "outputs": [
    {
     "data": {
      "text/plain": [
       "125"
      ]
     },
     "execution_count": 2,
     "metadata": {},
     "output_type": "execute_result"
    }
   ],
   "source": [
    "a = 5\n",
    "b = 3\n",
    "\n",
    "a**b"
   ]
  },
  {
   "cell_type": "code",
   "execution_count": 3,
   "id": "af5a44e5",
   "metadata": {},
   "outputs": [
    {
     "data": {
      "text/plain": [
       "125"
      ]
     },
     "execution_count": 3,
     "metadata": {},
     "output_type": "execute_result"
    }
   ],
   "source": [
    "pow(5, 3)"
   ]
  },
  {
   "cell_type": "code",
   "execution_count": 4,
   "id": "a3bd50f8",
   "metadata": {},
   "outputs": [],
   "source": [
    "def daraja(number_1, number_2):\n",
    "    return number_1 ** number_2\n"
   ]
  },
  {
   "cell_type": "code",
   "execution_count": 5,
   "id": "7519fc47",
   "metadata": {},
   "outputs": [
    {
     "data": {
      "text/plain": [
       "390625"
      ]
     },
     "execution_count": 5,
     "metadata": {},
     "output_type": "execute_result"
    }
   ],
   "source": [
    "daraja(5, 8)"
   ]
  },
  {
   "cell_type": "code",
   "execution_count": 7,
   "id": "67755b1b",
   "metadata": {},
   "outputs": [
    {
     "data": {
      "text/plain": [
       "list"
      ]
     },
     "execution_count": 7,
     "metadata": {},
     "output_type": "execute_result"
    }
   ],
   "source": [
    "name = [\"Anna\" , \"Sam\" , \"Abror\" , \"Muhtor\"]\n",
    "type(name)"
   ]
  },
  {
   "cell_type": "code",
   "execution_count": 8,
   "id": "e64c0229",
   "metadata": {},
   "outputs": [
    {
     "name": "stdout",
     "output_type": "stream",
     "text": [
      "Anna\n",
      "Sam\n",
      "Abror\n",
      "Muhtor\n"
     ]
    }
   ],
   "source": [
    "for i in name:\n",
    "    print(i)"
   ]
  },
  {
   "cell_type": "code",
   "execution_count": null,
   "id": "15d1822a",
   "metadata": {},
   "outputs": [],
   "source": []
  }
 ],
 "metadata": {
  "kernelspec": {
   "display_name": "Python 3",
   "language": "python",
   "name": "python3"
  },
  "language_info": {
   "codemirror_mode": {
    "name": "ipython",
    "version": 3
   },
   "file_extension": ".py",
   "mimetype": "text/x-python",
   "name": "python",
   "nbconvert_exporter": "python",
   "pygments_lexer": "ipython3",
   "version": "3.13.5"
  }
 },
 "nbformat": 4,
 "nbformat_minor": 5
}
